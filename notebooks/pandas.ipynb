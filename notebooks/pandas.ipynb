{
 "cells": [
  {
   "cell_type": "markdown",
   "id": "c81da886",
   "metadata": {},
   "source": [
    "# Pandas Dataframe\n",
    "\n",
    "This notebook shows how to use agents to interact with a `Pandas DataFrame`. It is mostly optimized for question answering.\n",
    "\n",
    "**NOTE: this agent calls the `Python` agent under the hood, which executes LLM generated Python code - this can be bad if the LLM generated Python code is harmful. Use cautiously.**"
   ]
  },
  {
   "cell_type": "code",
   "execution_count": 1,
   "id": "0cdd9bf5",
   "metadata": {},
   "outputs": [],
   "source": [
    "from langchain.agents.agent_types import AgentType\n",
    "from langchain_experimental.agents.agent_toolkits import create_pandas_dataframe_agent\n",
    "from langchain_openai import ChatOpenAI"
   ]
  },
  {
   "cell_type": "code",
   "execution_count": 2,
   "id": "051ebe84",
   "metadata": {},
   "outputs": [],
   "source": [
    "import pandas as pd\n",
    "from langchain_openai import OpenAI\n",
    "\n",
    "df = pd.read_excel(\n",
    "    \"../files/display-long-term-demand-forecast-tracker-pivot-q1-2016(1)_1.xls\",\n",
    "    sheet_name=\"Units\",\n",
    "    skiprows=[i for i in range(13)],\n",
    "    header=None\n",
    ")"
   ]
  },
  {
   "cell_type": "code",
   "execution_count": 4,
   "id": "1d5ad222",
   "metadata": {},
   "outputs": [],
   "source": [
    "import numpy as np"
   ]
  },
  {
   "cell_type": "code",
   "execution_count": 5,
   "id": "957defc0",
   "metadata": {},
   "outputs": [],
   "source": [
    "def format_year(row, start_year):\n",
    "    j = 0\n",
    "    years = []\n",
    "    for i in range(start_year, len(row)):\n",
    "        if not np.isnan(row[i]):\n",
    "            j = i\n",
    "        years.append(str(row[j]))\n",
    "    formated_row = years\n",
    "    return formated_row\n",
    "\n",
    "def format_year_quater(years, quaters):\n",
    "    assert len(years) == len(quaters)\n",
    "    return [\"-\".join([years[i], quaters[i]]) for i in range(len(years))]\n",
    "def fill_attribute(column):\n",
    "    column = list(column)\n",
    "    j = 0\n",
    "    new_column = []\n",
    "    for i in range(len(column)):\n",
    "        if isinstance(column[i], float) and np.isnan(column[i]):\n",
    "            pass\n",
    "        else:\n",
    "            j = i\n",
    "        new_column.append(column[j])\n",
    "    return new_column"
   ]
  },
  {
   "cell_type": "code",
   "execution_count": 6,
   "id": "1bc96a54",
   "metadata": {},
   "outputs": [],
   "source": [
    "def format_df(df, value_unit, num_col2fill):\n",
    "    years = format_year(df.iloc[0], num_col2fill)\n",
    "    years_quaters = format_year_quater(years, df.iloc[1, num_col2fill:].to_list())\n",
    "    col2fill = df.iloc[1, :num_col2fill].to_list()\n",
    "    df.columns = col2fill + [\" \".join([yq, value_unit]) for yq in years_quaters]\n",
    "    df = df.iloc[2:].reset_index(drop=True)\n",
    "    for c in range(num_col2fill):\n",
    "        df.iloc[:, c] = fill_attribute(df.iloc[:, c])\n",
    "    return df\n",
    "\n",
    "def format_df_t(df):\n",
    "    years = df.iloc[[0]].apply(format_year, axis=1).iloc[0]\n",
    "    years_quaters = format_year_quater(years, df.iloc[1, 1:].to_list())\n",
    "    df.columns = ['year quatuer'] + years_quaters\n",
    "    _df = df.iloc[2:].reset_index(drop=True).T\n",
    "    _df.reset_index(inplace=True)\n",
    "    _df.columns = _df.iloc[0]\n",
    "    _df = _df.drop(0)\n",
    "    _df = _df.reset_index(drop=True)\n",
    "    return _df"
   ]
  },
  {
   "cell_type": "code",
   "execution_count": 7,
   "id": "123f4459",
   "metadata": {},
   "outputs": [
    {
     "data": {
      "text/html": [
       "<div>\n",
       "<style scoped>\n",
       "    .dataframe tbody tr th:only-of-type {\n",
       "        vertical-align: middle;\n",
       "    }\n",
       "\n",
       "    .dataframe tbody tr th {\n",
       "        vertical-align: top;\n",
       "    }\n",
       "\n",
       "    .dataframe thead th {\n",
       "        text-align: right;\n",
       "    }\n",
       "</style>\n",
       "<table border=\"1\" class=\"dataframe\">\n",
       "  <thead>\n",
       "    <tr style=\"text-align: right;\">\n",
       "      <th></th>\n",
       "      <th>Original_Specification</th>\n",
       "      <th>Resolution</th>\n",
       "      <th>Size</th>\n",
       "      <th>2013-Q1 Units</th>\n",
       "      <th>2013-Q2 Units</th>\n",
       "      <th>2013-Q3 Units</th>\n",
       "      <th>2013-Q4 Units</th>\n",
       "      <th>2014-Q1 Units</th>\n",
       "      <th>2014-Q2 Units</th>\n",
       "      <th>2014-Q3 Units</th>\n",
       "      <th>...</th>\n",
       "      <th>2019-Q1 Units</th>\n",
       "      <th>2019-Q2 Units</th>\n",
       "      <th>2019-Q3 Units</th>\n",
       "      <th>2019-Q4 Units</th>\n",
       "      <th>2020-Q1 Units</th>\n",
       "      <th>2020-Q2 Units</th>\n",
       "      <th>2020-Q3 Units</th>\n",
       "      <th>2020-Q4 Units</th>\n",
       "      <th>2021-ALL Units</th>\n",
       "      <th>2022-ALL Units</th>\n",
       "    </tr>\n",
       "  </thead>\n",
       "  <tbody>\n",
       "    <tr>\n",
       "      <th>0</th>\n",
       "      <td>3D Shutter</td>\n",
       "      <td>Segment</td>\n",
       "      <td>2.5</td>\n",
       "      <td>6230</td>\n",
       "      <td>8288</td>\n",
       "      <td>4182</td>\n",
       "      <td>4264</td>\n",
       "      <td>3296</td>\n",
       "      <td>1160</td>\n",
       "      <td>881</td>\n",
       "      <td>...</td>\n",
       "      <td>NaN</td>\n",
       "      <td>NaN</td>\n",
       "      <td>NaN</td>\n",
       "      <td>NaN</td>\n",
       "      <td>NaN</td>\n",
       "      <td>NaN</td>\n",
       "      <td>NaN</td>\n",
       "      <td>NaN</td>\n",
       "      <td>NaN</td>\n",
       "      <td>NaN</td>\n",
       "    </tr>\n",
       "    <tr>\n",
       "      <th>1</th>\n",
       "      <td>Amusement</td>\n",
       "      <td>320 x 240</td>\n",
       "      <td>3.1</td>\n",
       "      <td>660</td>\n",
       "      <td>700</td>\n",
       "      <td>550</td>\n",
       "      <td>900</td>\n",
       "      <td>30</td>\n",
       "      <td>90</td>\n",
       "      <td>15</td>\n",
       "      <td>...</td>\n",
       "      <td>NaN</td>\n",
       "      <td>NaN</td>\n",
       "      <td>NaN</td>\n",
       "      <td>NaN</td>\n",
       "      <td>NaN</td>\n",
       "      <td>NaN</td>\n",
       "      <td>NaN</td>\n",
       "      <td>NaN</td>\n",
       "      <td>NaN</td>\n",
       "      <td>NaN</td>\n",
       "    </tr>\n",
       "    <tr>\n",
       "      <th>2</th>\n",
       "      <td>Amusement</td>\n",
       "      <td>320 x 240</td>\n",
       "      <td>3.3</td>\n",
       "      <td>NaN</td>\n",
       "      <td>NaN</td>\n",
       "      <td>NaN</td>\n",
       "      <td>NaN</td>\n",
       "      <td>NaN</td>\n",
       "      <td>50</td>\n",
       "      <td>900</td>\n",
       "      <td>...</td>\n",
       "      <td>77.774471</td>\n",
       "      <td>90.05465</td>\n",
       "      <td>128.941886</td>\n",
       "      <td>84.596793</td>\n",
       "      <td>75.783774</td>\n",
       "      <td>87.749633</td>\n",
       "      <td>125.64152</td>\n",
       "      <td>82.431473</td>\n",
       "      <td>356.796</td>\n",
       "      <td>343.332</td>\n",
       "    </tr>\n",
       "    <tr>\n",
       "      <th>3</th>\n",
       "      <td>Amusement</td>\n",
       "      <td>320 x 240</td>\n",
       "      <td>4.2</td>\n",
       "      <td>1700</td>\n",
       "      <td>1700</td>\n",
       "      <td>4000</td>\n",
       "      <td>2200</td>\n",
       "      <td>460</td>\n",
       "      <td>220</td>\n",
       "      <td>1350</td>\n",
       "      <td>...</td>\n",
       "      <td>820</td>\n",
       "      <td>1150</td>\n",
       "      <td>2220</td>\n",
       "      <td>1970</td>\n",
       "      <td>799.366883</td>\n",
       "      <td>1121.063312</td>\n",
       "      <td>2164.13961</td>\n",
       "      <td>1920.430195</td>\n",
       "      <td>5880</td>\n",
       "      <td>5760.0</td>\n",
       "    </tr>\n",
       "    <tr>\n",
       "      <th>4</th>\n",
       "      <td>Amusement</td>\n",
       "      <td>400 x 480</td>\n",
       "      <td>5</td>\n",
       "      <td>NaN</td>\n",
       "      <td>NaN</td>\n",
       "      <td>2100</td>\n",
       "      <td>1900</td>\n",
       "      <td>500</td>\n",
       "      <td>60</td>\n",
       "      <td>400</td>\n",
       "      <td>...</td>\n",
       "      <td>50</td>\n",
       "      <td>100</td>\n",
       "      <td>150</td>\n",
       "      <td>60</td>\n",
       "      <td>NaN</td>\n",
       "      <td>NaN</td>\n",
       "      <td>NaN</td>\n",
       "      <td>NaN</td>\n",
       "      <td>NaN</td>\n",
       "      <td>NaN</td>\n",
       "    </tr>\n",
       "    <tr>\n",
       "      <th>...</th>\n",
       "      <td>...</td>\n",
       "      <td>...</td>\n",
       "      <td>...</td>\n",
       "      <td>...</td>\n",
       "      <td>...</td>\n",
       "      <td>...</td>\n",
       "      <td>...</td>\n",
       "      <td>...</td>\n",
       "      <td>...</td>\n",
       "      <td>...</td>\n",
       "      <td>...</td>\n",
       "      <td>...</td>\n",
       "      <td>...</td>\n",
       "      <td>...</td>\n",
       "      <td>...</td>\n",
       "      <td>...</td>\n",
       "      <td>...</td>\n",
       "      <td>...</td>\n",
       "      <td>...</td>\n",
       "      <td>...</td>\n",
       "      <td>...</td>\n",
       "    </tr>\n",
       "    <tr>\n",
       "      <th>655</th>\n",
       "      <td>Others</td>\n",
       "      <td>1280 x 1024</td>\n",
       "      <td>17</td>\n",
       "      <td>71.745</td>\n",
       "      <td>75</td>\n",
       "      <td>118</td>\n",
       "      <td>463</td>\n",
       "      <td>663</td>\n",
       "      <td>484</td>\n",
       "      <td>375</td>\n",
       "      <td>...</td>\n",
       "      <td>319.313</td>\n",
       "      <td>330.007</td>\n",
       "      <td>377.809</td>\n",
       "      <td>376.799</td>\n",
       "      <td>348.104</td>\n",
       "      <td>376.168</td>\n",
       "      <td>403.739</td>\n",
       "      <td>410.591</td>\n",
       "      <td>1812.818</td>\n",
       "      <td>2161.641</td>\n",
       "    </tr>\n",
       "    <tr>\n",
       "      <th>656</th>\n",
       "      <td>Others</td>\n",
       "      <td>1920 x 1080</td>\n",
       "      <td>16.5</td>\n",
       "      <td>4</td>\n",
       "      <td>0.5</td>\n",
       "      <td>0.3</td>\n",
       "      <td>NaN</td>\n",
       "      <td>1</td>\n",
       "      <td>3</td>\n",
       "      <td>1</td>\n",
       "      <td>...</td>\n",
       "      <td>2</td>\n",
       "      <td>2</td>\n",
       "      <td>2</td>\n",
       "      <td>2</td>\n",
       "      <td>2.125</td>\n",
       "      <td>2.125</td>\n",
       "      <td>2.125</td>\n",
       "      <td>2.125</td>\n",
       "      <td>9</td>\n",
       "      <td>9</td>\n",
       "    </tr>\n",
       "    <tr>\n",
       "      <th>657</th>\n",
       "      <td>Others</td>\n",
       "      <td>1920 x 1080</td>\n",
       "      <td>24.5</td>\n",
       "      <td>3</td>\n",
       "      <td>0.4</td>\n",
       "      <td>0.2</td>\n",
       "      <td>NaN</td>\n",
       "      <td>NaN</td>\n",
       "      <td>5</td>\n",
       "      <td>3.6</td>\n",
       "      <td>...</td>\n",
       "      <td>1.5</td>\n",
       "      <td>1.5</td>\n",
       "      <td>2.5</td>\n",
       "      <td>2.5</td>\n",
       "      <td>1.59375</td>\n",
       "      <td>1.59375</td>\n",
       "      <td>2.65625</td>\n",
       "      <td>2.65625</td>\n",
       "      <td>9</td>\n",
       "      <td>9.5</td>\n",
       "    </tr>\n",
       "    <tr>\n",
       "      <th>658</th>\n",
       "      <td>Others</td>\n",
       "      <td>4096 x 2160</td>\n",
       "      <td>29.5</td>\n",
       "      <td>NaN</td>\n",
       "      <td>NaN</td>\n",
       "      <td>NaN</td>\n",
       "      <td>NaN</td>\n",
       "      <td>NaN</td>\n",
       "      <td>NaN</td>\n",
       "      <td>NaN</td>\n",
       "      <td>...</td>\n",
       "      <td>0.5</td>\n",
       "      <td>1</td>\n",
       "      <td>1</td>\n",
       "      <td>1</td>\n",
       "      <td>0.5</td>\n",
       "      <td>1</td>\n",
       "      <td>1</td>\n",
       "      <td>1</td>\n",
       "      <td>4.0</td>\n",
       "      <td>4.0</td>\n",
       "    </tr>\n",
       "    <tr>\n",
       "      <th>659</th>\n",
       "      <td>总计</td>\n",
       "      <td>4096 x 2160</td>\n",
       "      <td>29.5</td>\n",
       "      <td>853833.072695</td>\n",
       "      <td>889391.487464</td>\n",
       "      <td>982710.240846</td>\n",
       "      <td>963720.548956</td>\n",
       "      <td>867613.076948</td>\n",
       "      <td>918217.832314</td>\n",
       "      <td>1009062.680057</td>\n",
       "      <td>...</td>\n",
       "      <td>866591.691358</td>\n",
       "      <td>948866.105925</td>\n",
       "      <td>1018467.016083</td>\n",
       "      <td>1033693.683869</td>\n",
       "      <td>870122.86385</td>\n",
       "      <td>957720.396132</td>\n",
       "      <td>1032558.434141</td>\n",
       "      <td>1055075.999735</td>\n",
       "      <td>3976091.750874</td>\n",
       "      <td>4019200.99661</td>\n",
       "    </tr>\n",
       "  </tbody>\n",
       "</table>\n",
       "<p>660 rows × 37 columns</p>\n",
       "</div>"
      ],
      "text/plain": [
       "    Original_Specification   Resolution  Size  2013-Q1 Units  2013-Q2 Units  \\\n",
       "0               3D Shutter      Segment   2.5           6230           8288   \n",
       "1                Amusement    320 x 240   3.1            660            700   \n",
       "2                Amusement    320 x 240   3.3            NaN            NaN   \n",
       "3                Amusement    320 x 240   4.2           1700           1700   \n",
       "4                Amusement    400 x 480     5            NaN            NaN   \n",
       "..                     ...          ...   ...            ...            ...   \n",
       "655                 Others  1280 x 1024    17         71.745             75   \n",
       "656                 Others  1920 x 1080  16.5              4            0.5   \n",
       "657                 Others  1920 x 1080  24.5              3            0.4   \n",
       "658                 Others  4096 x 2160  29.5            NaN            NaN   \n",
       "659                     总计  4096 x 2160  29.5  853833.072695  889391.487464   \n",
       "\n",
       "     2013-Q3 Units  2013-Q4 Units  2014-Q1 Units  2014-Q2 Units  \\\n",
       "0             4182           4264           3296           1160   \n",
       "1              550            900             30             90   \n",
       "2              NaN            NaN            NaN             50   \n",
       "3             4000           2200            460            220   \n",
       "4             2100           1900            500             60   \n",
       "..             ...            ...            ...            ...   \n",
       "655            118            463            663            484   \n",
       "656            0.3            NaN              1              3   \n",
       "657            0.2            NaN            NaN              5   \n",
       "658            NaN            NaN            NaN            NaN   \n",
       "659  982710.240846  963720.548956  867613.076948  918217.832314   \n",
       "\n",
       "      2014-Q3 Units  ...  2019-Q1 Units  2019-Q2 Units   2019-Q3 Units  \\\n",
       "0               881  ...            NaN            NaN             NaN   \n",
       "1                15  ...            NaN            NaN             NaN   \n",
       "2               900  ...      77.774471       90.05465      128.941886   \n",
       "3              1350  ...            820           1150            2220   \n",
       "4               400  ...             50            100             150   \n",
       "..              ...  ...            ...            ...             ...   \n",
       "655             375  ...        319.313        330.007         377.809   \n",
       "656               1  ...              2              2               2   \n",
       "657             3.6  ...            1.5            1.5             2.5   \n",
       "658             NaN  ...            0.5              1               1   \n",
       "659  1009062.680057  ...  866591.691358  948866.105925  1018467.016083   \n",
       "\n",
       "      2019-Q4 Units 2020-Q1 Units  2020-Q2 Units   2020-Q3 Units  \\\n",
       "0               NaN           NaN            NaN             NaN   \n",
       "1               NaN           NaN            NaN             NaN   \n",
       "2         84.596793     75.783774      87.749633       125.64152   \n",
       "3              1970    799.366883    1121.063312      2164.13961   \n",
       "4                60           NaN            NaN             NaN   \n",
       "..              ...           ...            ...             ...   \n",
       "655         376.799       348.104        376.168         403.739   \n",
       "656               2         2.125          2.125           2.125   \n",
       "657             2.5       1.59375        1.59375         2.65625   \n",
       "658               1           0.5              1               1   \n",
       "659  1033693.683869  870122.86385  957720.396132  1032558.434141   \n",
       "\n",
       "      2020-Q4 Units  2021-ALL Units 2022-ALL Units  \n",
       "0               NaN             NaN            NaN  \n",
       "1               NaN             NaN            NaN  \n",
       "2         82.431473         356.796        343.332  \n",
       "3       1920.430195            5880         5760.0  \n",
       "4               NaN             NaN            NaN  \n",
       "..              ...             ...            ...  \n",
       "655         410.591        1812.818       2161.641  \n",
       "656           2.125               9              9  \n",
       "657         2.65625               9            9.5  \n",
       "658               1             4.0            4.0  \n",
       "659  1055075.999735  3976091.750874  4019200.99661  \n",
       "\n",
       "[660 rows x 37 columns]"
      ]
     },
     "execution_count": 7,
     "metadata": {},
     "output_type": "execute_result"
    }
   ],
   "source": [
    "df_1 = format_df(df, 'Units', 3)\n",
    "df_1"
   ]
  },
  {
   "cell_type": "markdown",
   "id": "a62858e2",
   "metadata": {},
   "source": [
    "## Using `ZERO_SHOT_REACT_DESCRIPTION`\n",
    "\n",
    "This shows how to initialize the agent using the `ZERO_SHOT_REACT_DESCRIPTION` agent type. Note that this is an alternative to the above."
   ]
  },
  {
   "cell_type": "code",
   "execution_count": 8,
   "id": "e7bc0fdd",
   "metadata": {},
   "outputs": [],
   "source": [
    "import os\n",
    "os.environ['OPENAI_API_KEY'] = \"token\""
   ]
  },
  {
   "cell_type": "code",
   "execution_count": 9,
   "id": "4185ff46",
   "metadata": {},
   "outputs": [],
   "source": [
    "agent = create_pandas_dataframe_agent(OpenAI(temperature=0), df, verbose=True)"
   ]
  },
  {
   "cell_type": "markdown",
   "id": "7233ab56",
   "metadata": {},
   "source": [
    "## Using OpenAI Functions\n",
    "\n",
    "This shows how to initialize the agent using the OPENAI_FUNCTIONS agent type. Note that this is an alternative to the above."
   ]
  },
  {
   "cell_type": "code",
   "execution_count": 10,
   "id": "a8ea710e",
   "metadata": {},
   "outputs": [],
   "source": [
    "agent = create_pandas_dataframe_agent(\n",
    "    ChatOpenAI(temperature=0, model=\"gpt-3.5-turbo-0613\"),\n",
    "    df_1,\n",
    "    verbose=True,\n",
    "    agent_type=AgentType.OPENAI_FUNCTIONS,\n",
    ")"
   ]
  },
  {
   "cell_type": "code",
   "execution_count": 11,
   "id": "a9207a2e",
   "metadata": {},
   "outputs": [
    {
     "name": "stdout",
     "output_type": "stream",
     "text": [
      "\n",
      "\n",
      "\u001b[1m> Entering new AgentExecutor chain...\u001b[0m\n",
      "\u001b[32;1m\u001b[1;3m\n",
      "Invoking: `python_repl_ast` with `{'query': 'df.shape[0]'}`\n",
      "\n",
      "\n",
      "\u001b[0m\u001b[36;1m\u001b[1;3m27\u001b[0m\u001b[32;1m\u001b[1;3mThere are 27 rows in the dataframe.\u001b[0m\n",
      "\n",
      "\u001b[1m> Finished chain.\u001b[0m\n"
     ]
    },
    {
     "data": {
      "text/plain": [
       "{'input': 'how many rows are there?',\n",
       " 'output': 'There are 27 rows in the dataframe.'}"
      ]
     },
     "execution_count": 11,
     "metadata": {},
     "output_type": "execute_result"
    }
   ],
   "source": [
    "agent.invoke(\"how many rows are there?\")"
   ]
  },
  {
   "cell_type": "code",
   "execution_count": 18,
   "id": "bd43617c",
   "metadata": {},
   "outputs": [
    {
     "name": "stdout",
     "output_type": "stream",
     "text": [
      "\n",
      "\n",
      "\u001b[1m> Entering new AgentExecutor chain...\u001b[0m\n",
      "\u001b[32;1m\u001b[1;3m\n",
      "Invoking: `python_repl_ast` with `{'query': \"df.loc[4, '2015-Q1':'2015-Q4'].sum()\"}`\n",
      "\n",
      "\n",
      "\u001b[0m\u001b[36;1m\u001b[1;3m1135.99473575\u001b[0m\u001b[32;1m\u001b[1;3mThe total value of CRT TV and LCD TV in all quarters of 2015 is 1135.99473575.\u001b[0m\n",
      "\n",
      "\u001b[1m> Finished chain.\u001b[0m\n"
     ]
    },
    {
     "data": {
      "text/plain": [
       "{'input': 'What is the total value of ctr tv and lcd tv in 2015 all quaters',\n",
       " 'output': 'The total value of CRT TV and LCD TV in all quarters of 2015 is 1135.99473575.'}"
      ]
     },
     "execution_count": 18,
     "metadata": {},
     "output_type": "execute_result"
    }
   ],
   "source": [
    "agent.invoke(\"What is the total value of ctr tv and lcd tv in 2015 all quaters\")"
   ]
  },
  {
   "cell_type": "code",
   "execution_count": 14,
   "id": "94e64b58",
   "metadata": {},
   "outputs": [
    {
     "name": "stdout",
     "output_type": "stream",
     "text": [
      "\n",
      "\n",
      "\u001b[1m> Entering new AgentExecutor chain...\u001b[0m\n",
      "\u001b[32;1m\u001b[1;3m\n",
      "Invoking: `python_repl_ast` with `{'query': \"df['Mobile Phone'].mean()\"}`\n",
      "\n",
      "\n",
      "\u001b[0m\u001b[36;1m\u001b[1;3m593442.9088441757\u001b[0m\u001b[32;1m\u001b[1;3mThe average value of Mobile Phone is approximately 593,442.91.\u001b[0m\n",
      "\n",
      "\u001b[1m> Finished chain.\u001b[0m\n"
     ]
    },
    {
     "data": {
      "text/plain": [
       "{'input': 'whats the average value of Mobile Phone?',\n",
       " 'output': 'The average value of Mobile Phone is approximately 593,442.91.'}"
      ]
     },
     "execution_count": 14,
     "metadata": {},
     "output_type": "execute_result"
    }
   ],
   "source": [
    "agent.invoke(\"whats the average value of Mobile Phone?\")"
   ]
  },
  {
   "cell_type": "code",
   "execution_count": 19,
   "id": "9d3ff7ae",
   "metadata": {},
   "outputs": [
    {
     "data": {
      "text/plain": [
       "59606.907"
      ]
     },
     "execution_count": 19,
     "metadata": {},
     "output_type": "execute_result"
    }
   ],
   "source": [
    "_df[_df['year quatuer'].str.contains('2016')]['LCD TV'].values[0]"
   ]
  },
  {
   "cell_type": "code",
   "execution_count": 27,
   "id": "67c31e19",
   "metadata": {},
   "outputs": [
    {
     "name": "stdout",
     "output_type": "stream",
     "text": [
      "\n",
      "\n",
      "\u001b[1m> Entering new AgentExecutor chain...\u001b[0m\n",
      "\u001b[32;1m\u001b[1;3m\n",
      "Invoking: `python_repl_ast` with `{'query': \"df['LCD TV'][15] - df['LCD TV'][0]\"}`\n",
      "\n",
      "\n",
      "\u001b[0m\u001b[36;1m\u001b[1;3m11444.132999999987\u001b[0m\u001b[32;1m\u001b[1;3m\n",
      "Invoking: `python_repl_ast` with `{'query': \"(df['LCD TV'][15] - df['LCD TV'][0]) / df['LCD TV'][0] * 100\"}`\n",
      "\n",
      "\n",
      "\u001b[0m\u001b[36;1m\u001b[1;3m20.071792128525303\u001b[0m\u001b[32;1m\u001b[1;3m\n",
      "Invoking: `python_repl_ast` with `{'query': \"((df['LCD TV'][15] / df['LCD TV'][0])**(1/15) - 1) * 100\"}`\n",
      "\n",
      "\n",
      "\u001b[0m\u001b[36;1m\u001b[1;3m1.2269300868725797\u001b[0m\u001b[32;1m\u001b[1;3mThe growth of LCD TV from 2013 Q1 to 2016 Q4 is 11,444 units, which represents a growth rate of 20.07%. The compound growth rate over this period is 1.23%.\u001b[0m\n",
      "\n",
      "\u001b[1m> Finished chain.\u001b[0m\n"
     ]
    },
    {
     "data": {
      "text/plain": [
       "{'input': 'How much is the growth of LCD TV from 2013 Q1 to 2016 Q4? And the compound growth rate',\n",
       " 'output': 'The growth of LCD TV from 2013 Q1 to 2016 Q4 is 11,444 units, which represents a growth rate of 20.07%. The compound growth rate over this period is 1.23%.'}"
      ]
     },
     "execution_count": 27,
     "metadata": {},
     "output_type": "execute_result"
    }
   ],
   "source": [
    "agent.invoke(\"How much is the growth of LCD TV from 2013 Q1 to 2016 Q4? And the compound growth rate\")"
   ]
  },
  {
   "cell_type": "code",
   "execution_count": 26,
   "id": "67d53e5a",
   "metadata": {},
   "outputs": [
    {
     "name": "stdout",
     "output_type": "stream",
     "text": [
      "\n",
      "\n",
      "\u001b[1m> Entering new AgentExecutor chain...\u001b[0m\n",
      "\u001b[32;1m\u001b[1;3m\n",
      "Invoking: `python_repl_ast` with `{'query': \"beginning_value = df.loc[0, 'LCD TV']\\nending_value = df.loc[11, 'LCD TV']\\nnumber_of_periods = 11\\ncompound_growth_rate = (ending_value / beginning_value) ** (1 / number_of_periods) - 1\\ncompound_growth_rate\"}`\n",
      "responded: To calculate the compound growth rate of LCD TV from 2013 Q1 to 2016 Q4, we need to use the formula:\n",
      "\n",
      "Compound Growth Rate = (Ending Value / Beginning Value) ^ (1 / Number of Periods) - 1\n",
      "\n",
      "In this case, the beginning value is the LCD TV sales in 2013 Q1 and the ending value is the LCD TV sales in 2016 Q4. The number of periods is the number of quarters between 2013 Q1 and 2016 Q4.\n",
      "\n",
      "Let's calculate the compound growth rate using the data from the dataframe.\n",
      "\n",
      "\u001b[0m\u001b[36;1m\u001b[1;3m0.017875395725760912\u001b[0m\u001b[32;1m\u001b[1;3mThe compound growth rate of LCD TV from 2013 Q1 to 2016 Q4 is approximately 1.79%.\u001b[0m\n",
      "\n",
      "\u001b[1m> Finished chain.\u001b[0m\n"
     ]
    },
    {
     "data": {
      "text/plain": [
       "{'input': 'What is the compound growth rate of LCD TV from 2013 Q1 to 2016 Q4?',\n",
       " 'output': 'The compound growth rate of LCD TV from 2013 Q1 to 2016 Q4 is approximately 1.79%.'}"
      ]
     },
     "execution_count": 26,
     "metadata": {},
     "output_type": "execute_result"
    }
   ],
   "source": [
    "agent.invoke(\"What is the compound growth rate of LCD TV from 2013 Q1 to 2016 Q4?\")"
   ]
  },
  {
   "cell_type": "code",
   "execution_count": 23,
   "id": "58292db6",
   "metadata": {},
   "outputs": [
    {
     "name": "stdout",
     "output_type": "stream",
     "text": [
      "\n",
      "\n",
      "\u001b[1m> Entering new AgentExecutor chain...\u001b[0m\n",
      "\u001b[32;1m\u001b[1;3mTo determine which size of desktop monitor experienced the fastest growth from 2013 Q1 to 2017 Q4, we need to compare the sales data for each size of desktop monitor across the different quarters.\n",
      "\n",
      "First, we need to extract the relevant columns from the dataframe and filter the data for the specified time period. Then, we can calculate the growth rate for each size of desktop monitor and identify the one with the highest growth rate.\n",
      "\n",
      "Here's the Python code to accomplish this:\n",
      "\n",
      "```python\n",
      "import pandas as pd\n",
      "\n",
      "# Extract relevant columns and filter data for the specified time period\n",
      "df_filtered = df[['year quatuer', 'Desktop Monitor']].copy()\n",
      "df_filtered = df_filtered[df_filtered['year quatuer'].between('2013-Q1', '2017-Q4')]\n",
      "\n",
      "# Calculate growth rate for each size of desktop monitor\n",
      "df_filtered['Growth Rate'] = df_filtered['Desktop Monitor'].pct_change()\n",
      "\n",
      "# Find the size of desktop monitor with the highest growth rate\n",
      "fastest_growth_size = df_filtered[df_filtered['Growth Rate'] == df_filtered['Growth Rate'].max()]['Desktop Monitor'].values[0]\n",
      "\n",
      "fastest_growth_size\n",
      "```\n",
      "\n",
      "The `fastest_growth_size` variable will contain the size of the desktop monitor that experienced the fastest growth from 2013 Q1 to 2017 Q4.\u001b[0m\n",
      "\n",
      "\u001b[1m> Finished chain.\u001b[0m\n"
     ]
    },
    {
     "data": {
      "text/plain": [
       "{'input': 'Which size of desktop monitor experienced the fastest growth from 2013 Q1 to 2017 Q4',\n",
       " 'output': \"To determine which size of desktop monitor experienced the fastest growth from 2013 Q1 to 2017 Q4, we need to compare the sales data for each size of desktop monitor across the different quarters.\\n\\nFirst, we need to extract the relevant columns from the dataframe and filter the data for the specified time period. Then, we can calculate the growth rate for each size of desktop monitor and identify the one with the highest growth rate.\\n\\nHere's the Python code to accomplish this:\\n\\n```python\\nimport pandas as pd\\n\\n# Extract relevant columns and filter data for the specified time period\\ndf_filtered = df[['year quatuer', 'Desktop Monitor']].copy()\\ndf_filtered = df_filtered[df_filtered['year quatuer'].between('2013-Q1', '2017-Q4')]\\n\\n# Calculate growth rate for each size of desktop monitor\\ndf_filtered['Growth Rate'] = df_filtered['Desktop Monitor'].pct_change()\\n\\n# Find the size of desktop monitor with the highest growth rate\\nfastest_growth_size = df_filtered[df_filtered['Growth Rate'] == df_filtered['Growth Rate'].max()]['Desktop Monitor'].values[0]\\n\\nfastest_growth_size\\n```\\n\\nThe `fastest_growth_size` variable will contain the size of the desktop monitor that experienced the fastest growth from 2013 Q1 to 2017 Q4.\"}"
      ]
     },
     "execution_count": 23,
     "metadata": {},
     "output_type": "execute_result"
    }
   ],
   "source": [
    "agent.invoke(\"Which size of desktop monitor experienced the fastest growth from 2013 Q1 to 2017 Q4\")"
   ]
  },
  {
   "cell_type": "code",
   "execution_count": 17,
   "id": "bb2f557f",
   "metadata": {},
   "outputs": [
    {
     "name": "stdout",
     "output_type": "stream",
     "text": [
      "\n",
      "\n",
      "\u001b[1m> Entering new AgentExecutor chain...\u001b[0m\n",
      "\u001b[32;1m\u001b[1;3m\n",
      "Invoking: `python_repl_ast` with `{'query': \"df.loc[(df['Resolution'] == '4k') & (df['Size'] == 4), '2016-Q1 Units':'2019-Q4 Units'].sum().sum()\"}`\n",
      "\n",
      "\n",
      "\u001b[0m\u001b[36;1m\u001b[1;3m0\u001b[0m\u001b[32;1m\u001b[1;3mThe total number of LCD TVs with 4k resolution and a size of 4 from 2016 to 2019 is 0.\u001b[0m\n",
      "\n",
      "\u001b[1m> Finished chain.\u001b[0m\n"
     ]
    },
    {
     "data": {
      "text/plain": [
       "{'input': 'The LCD TV with 4k resolution from 2016 to 2019, respectively, was how much?',\n",
       " 'output': 'The total number of LCD TVs with 4k resolution and a size of 4 from 2016 to 2019 is 0.'}"
      ]
     },
     "execution_count": 17,
     "metadata": {},
     "output_type": "execute_result"
    }
   ],
   "source": [
    "agent.invoke(\"The LCD TV with 4k resolution from 2016 to 2019, respectively, was how much?\")"
   ]
  },
  {
   "cell_type": "markdown",
   "id": "0d4f6a39",
   "metadata": {},
   "source": [
    "不知道 4k 代表什么"
   ]
  },
  {
   "cell_type": "code",
   "execution_count": 15,
   "id": "fe061398",
   "metadata": {},
   "outputs": [
    {
     "name": "stdout",
     "output_type": "stream",
     "text": [
      "\n",
      "\n",
      "\u001b[1m> Entering new AgentExecutor chain...\u001b[0m\n",
      "\u001b[32;1m\u001b[1;3m\n",
      "Invoking: `python_repl_ast` with `{'query': \"df.loc[(df['Original_Specification'] == 'LCD TV') & (df['Resolution'] == '3840 x 2160'), '2016-Q1 Units':'2019-Q4 Units'].sum().sum()\"}`\n",
      "\n",
      "\n",
      "\u001b[0m\u001b[36;1m\u001b[1;3m376371.641\u001b[0m\u001b[32;1m\u001b[1;3mThe value of LCD TVs with a resolution of 3840 x 2160 from 2016 to 2019 was approximately 376,371.641 units.\u001b[0m\n",
      "\n",
      "\u001b[1m> Finished chain.\u001b[0m\n"
     ]
    },
    {
     "data": {
      "text/plain": [
       "{'input': 'The value of LCD TV with 3840 x 2160 resolution from 2016 to 2019, respectively, was how much?',\n",
       " 'output': 'The value of LCD TVs with a resolution of 3840 x 2160 from 2016 to 2019 was approximately 376,371.641 units.'}"
      ]
     },
     "execution_count": 15,
     "metadata": {},
     "output_type": "execute_result"
    }
   ],
   "source": [
    "agent.invoke(\"The value of LCD TV with 3840 x 2160 resolution from 2016 to 2019, respectively, was how much?\")"
   ]
  },
  {
   "cell_type": "markdown",
   "id": "98e31620",
   "metadata": {},
   "source": [
    "没有分别统计而是 sum 起来了"
   ]
  },
  {
   "cell_type": "code",
   "execution_count": 18,
   "id": "faab5bc2",
   "metadata": {},
   "outputs": [
    {
     "name": "stdout",
     "output_type": "stream",
     "text": [
      "\n",
      "\n",
      "\u001b[1m> Entering new AgentExecutor chain...\u001b[0m\n",
      "\u001b[32;1m\u001b[1;3m\n",
      "Invoking: `python_repl_ast` with `{'query': \"growth_rates = {}\\n\\nfor index, row in df.iterrows():\\n    if pd.notnull(row['Size']):\\n        units_2013 = row['2013-Q1 Units'] + row['2013-Q2 Units'] + row['2013-Q3 Units'] + row['2013-Q4 Units']\\n        units_2017 = row['2017-Q1 Units'] + row['2017-Q2 Units'] + row['2017-Q3 Units'] + row['2017-Q4 Units']\\n        growth_rate = ((units_2017 - units_2013) / units_2013) * 100\\n        growth_rates[row['Size']] = growth_rate\\n\\nmax_growth_size = max(growth_rates, key=growth_rates.get)\\nmax_growth_size\"}`\n",
      "responded: To determine which size of desktop monitors experienced the fastest growth from 2013 to 2017, we need to calculate the growth rate for each size and compare them.\n",
      "\n",
      "First, we need to calculate the growth rate for each size by subtracting the units sold in 2013 from the units sold in 2017, and then dividing it by the units sold in 2013. We will use the following formula:\n",
      "\n",
      "Growth Rate = ((Units Sold in 2017 - Units Sold in 2013) / Units Sold in 2013) * 100\n",
      "\n",
      "Next, we will find the size with the highest growth rate.\n",
      "\n",
      "\u001b[0m\u001b[36;1m\u001b[1;3mNameError: name 'pd' is not defined\u001b[0m\u001b[32;1m\u001b[1;3m\n",
      "Invoking: `python_repl_ast` with `{'query': \"import pandas as pd\\n\\ngrowth_rates = {}\\n\\nfor index, row in df.iterrows():\\n    if pd.notnull(row['Size']):\\n        units_2013 = row['2013-Q1 Units'] + row['2013-Q2 Units'] + row['2013-Q3 Units'] + row['2013-Q4 Units']\\n        units_2017 = row['2017-Q1 Units'] + row['2017-Q2 Units'] + row['2017-Q3 Units'] + row['2017-Q4 Units']\\n        growth_rate = ((units_2017 - units_2013) / units_2013) * 100\\n        growth_rates[row['Size']] = growth_rate\\n\\nmax_growth_size = max(growth_rates, key=growth_rates.get)\\nmax_growth_size\"}`\n",
      "responded: It seems that the `pd` module is not imported. Let me fix that and try again.\n",
      "\n",
      "\u001b[0m\u001b[36;1m\u001b[1;3m82\u001b[0m\u001b[32;1m\u001b[1;3mThe size of desktop monitors that experienced the fastest growth from 2013 to 2017 is 82.\u001b[0m\n",
      "\n",
      "\u001b[1m> Finished chain.\u001b[0m\n"
     ]
    },
    {
     "data": {
      "text/plain": [
       "{'input': 'Which size of desktop monitors experienced the fastest growth from 2013 to 2017?',\n",
       " 'output': 'The size of desktop monitors that experienced the fastest growth from 2013 to 2017 is 82.'}"
      ]
     },
     "execution_count": 18,
     "metadata": {},
     "output_type": "execute_result"
    }
   ],
   "source": [
    "agent.invoke(\"Which size of desktop monitors experienced the fastest growth from 2013 to 2017?\")"
   ]
  },
  {
   "cell_type": "code",
   "execution_count": null,
   "id": "3371ef1b",
   "metadata": {},
   "outputs": [],
   "source": []
  },
  {
   "cell_type": "markdown",
   "id": "c4bc0584",
   "metadata": {},
   "source": [
    "## Multi DataFrame Example\n",
    "\n",
    "This next part shows how the agent can interact with multiple dataframes passed in as a list."
   ]
  },
  {
   "cell_type": "code",
   "execution_count": null,
   "id": "8d95b3b3",
   "metadata": {},
   "outputs": [],
   "source": [
    "_df = pd.read_excel(\n",
    "    \"../files/display-long-term-demand-forecast-tracker-pivot-q1-2016(1)_1.xls\",\n",
    "    sheet_name=\"Revenues\",\n",
    "    skiprows=[i for i in range(13)],\n",
    "    header=None\n",
    ")\n",
    "\n",
    "df_2 = format_df(_df, 'Revenues', 1)"
   ]
  },
  {
   "cell_type": "code",
   "execution_count": null,
   "id": "f9c5a721",
   "metadata": {},
   "outputs": [],
   "source": [
    "df1, df2 = df_1, df_2\n",
    "agent = create_pandas_dataframe_agent(\n",
    "    ChatOpenAI(temperature=0, model=\"gpt-3.5-turbo-0613\"), \n",
    "    [df1, df2], \n",
    "    verbose=True,\n",
    "    max_iterations=10,\n",
    "    agent_type=AgentType.OPENAI_FUNCTIONS,\n",
    ")"
   ]
  },
  {
   "cell_type": "code",
   "execution_count": 32,
   "id": "d00fbc7b",
   "metadata": {},
   "outputs": [
    {
     "name": "stdout",
     "output_type": "stream",
     "text": [
      "\n",
      "\n",
      "\u001b[1m> Entering new AgentExecutor chain...\u001b[0m\n",
      "\u001b[32;1m\u001b[1;3m\n",
      "Invoking: `python_repl_ast` with `{'query': \"df1[df1['Original_Specification'] == 'LCD TV']['2015-Q1 Revenues'].values[0]\"}`\n",
      "\n",
      "\n",
      "\u001b[0m\u001b[36;1m\u001b[1;3mKeyError: '2015-Q1 Revenues'\u001b[0m\u001b[32;1m\u001b[1;3m\n",
      "Invoking: `python_repl_ast` with `{'query': \"df1[df1['Original_Specification'] == 'LCD TV']['2015-Q2 Revenues'].values[0] + df1[df1['Original_Specification'] == 'LCD TV']['2015-Q3 Revenues'].values[0] + df1[df1['Original_Specification'] == 'LCD TV']['2015-Q4 Revenues'].values[0]\"}`\n",
      "\n",
      "\n",
      "\u001b[0m\u001b[36;1m\u001b[1;3mKeyError: '2015-Q2 Revenues'\u001b[0m\u001b[32;1m\u001b[1;3m\n",
      "Invoking: `python_repl_ast` with `{'query': \"df1[df1['Original_Specification'] == 'LCD TV'][['2015-Q1 Revenues', '2015-Q2 Revenues', '2015-Q3 Revenues', '2015-Q4 Revenues']].sum(axis=1).values[0]\"}`\n",
      "\n",
      "\n",
      "\u001b[0m\u001b[36;1m\u001b[1;3mKeyError: \"None of [Index(['2015-Q1 Revenues', '2015-Q2 Revenues', '2015-Q3 Revenues',\\n       '2015-Q4 Revenues'],\\n      dtype='object')] are in the [columns]\"\u001b[0m\u001b[32;1m\u001b[1;3m\n",
      "Invoking: `python_repl_ast` with `{'query': \"df2[df2['Original_Specification'] == 'LCD TV'][['2015-Q1 Revenues', '2015-Q2 Revenues', '2015-Q3 Revenues', '2015-Q4 Revenues']].sum(axis=1).values[0]\"}`\n",
      "\n",
      "\n",
      "\u001b[0m\u001b[36;1m\u001b[1;3m40942315.9128\u001b[0m\u001b[32;1m\u001b[1;3mThe revenues of LCD TV in 2015 is approximately $40,942,315.91.\u001b[0m\n",
      "\n",
      "\u001b[1m> Finished chain.\u001b[0m\n"
     ]
    },
    {
     "data": {
      "text/plain": [
       "{'input': 'how much is the revenues of lcd tv in 2015',\n",
       " 'output': 'The revenues of LCD TV in 2015 is approximately $40,942,315.91.'}"
      ]
     },
     "execution_count": 32,
     "metadata": {},
     "output_type": "execute_result"
    }
   ],
   "source": [
    "agent.invoke(\"how much is the revenues of lcd tv in 2015\")"
   ]
  },
  {
   "cell_type": "code",
   "execution_count": 28,
   "id": "95297e03",
   "metadata": {},
   "outputs": [
    {
     "name": "stdout",
     "output_type": "stream",
     "text": [
      "\n",
      "\n",
      "\u001b[1m> Entering new AgentExecutor chain...\u001b[0m\n",
      "\u001b[32;1m\u001b[1;3mTo determine which size of desktop monitors experienced the fastest growth in units from 2013 to 2017, we need to calculate the percentage increase in units for each size and compare them.\n",
      "\n",
      "First, let's calculate the percentage increase in units for each size from 2013 to 2017:\n",
      "\n",
      "```python\n",
      "import pandas as pd\n",
      "\n",
      "# Assuming df1 is the dataframe containing the units data\n",
      "df1['2013-2017 Growth'] = (df1['2017-Q4 Units'] - df1['2013-Q1 Units']) / df1['2013-Q1 Units'] * 100\n",
      "\n",
      "# Sort the dataframe by the growth rate in descending order\n",
      "df1_sorted = df1.sort_values('2013-2017 Growth', ascending=False)\n",
      "\n",
      "# Get the size with the highest growth rate\n",
      "fastest_growth_size = df1_sorted.iloc[0]['Original_Specification']\n",
      "fastest_growth_rate = df1_sorted.iloc[0]['2013-2017 Growth']\n",
      "```\n",
      "\n",
      "The `fastest_growth_size` variable will contain the size of the desktop monitor that experienced the fastest growth in units from 2013 to 2017, and the `fastest_growth_rate` variable will contain the corresponding growth rate.\n",
      "\n",
      "To calculate the increase in revenue from 2013 to 2017, we need to subtract the revenue in 2013 from the revenue in 2017:\n",
      "\n",
      "```python\n",
      "# Assuming df2 is the dataframe containing the revenue data\n",
      "revenue_2013 = df2['2013-Q4 Revenues'].sum()\n",
      "revenue_2017 = df2['2017-Q4 Revenues'].sum()\n",
      "\n",
      "revenue_increase = revenue_2017 - revenue_2013\n",
      "```\n",
      "\n",
      "The `revenue_increase` variable will contain the increase in revenue from 2013 to 2017.\n",
      "\n",
      "Please note that you need to replace `df1` and `df2` with the actual names of your dataframes containing the units and revenue data respectively.\u001b[0m\n",
      "\n",
      "\u001b[1m> Finished chain.\u001b[0m\n"
     ]
    },
    {
     "data": {
      "text/plain": [
       "{'input': 'Which size of desktop monitors experienced the fastest growth in Units from 2013 to 2017? And what was the increase in revenue from what to what?',\n",
       " 'output': \"To determine which size of desktop monitors experienced the fastest growth in units from 2013 to 2017, we need to calculate the percentage increase in units for each size and compare them.\\n\\nFirst, let's calculate the percentage increase in units for each size from 2013 to 2017:\\n\\n```python\\nimport pandas as pd\\n\\n# Assuming df1 is the dataframe containing the units data\\ndf1['2013-2017 Growth'] = (df1['2017-Q4 Units'] - df1['2013-Q1 Units']) / df1['2013-Q1 Units'] * 100\\n\\n# Sort the dataframe by the growth rate in descending order\\ndf1_sorted = df1.sort_values('2013-2017 Growth', ascending=False)\\n\\n# Get the size with the highest growth rate\\nfastest_growth_size = df1_sorted.iloc[0]['Original_Specification']\\nfastest_growth_rate = df1_sorted.iloc[0]['2013-2017 Growth']\\n```\\n\\nThe `fastest_growth_size` variable will contain the size of the desktop monitor that experienced the fastest growth in units from 2013 to 2017, and the `fastest_growth_rate` variable will contain the corresponding growth rate.\\n\\nTo calculate the increase in revenue from 2013 to 2017, we need to subtract the revenue in 2013 from the revenue in 2017:\\n\\n```python\\n# Assuming df2 is the dataframe containing the revenue data\\nrevenue_2013 = df2['2013-Q4 Revenues'].sum()\\nrevenue_2017 = df2['2017-Q4 Revenues'].sum()\\n\\nrevenue_increase = revenue_2017 - revenue_2013\\n```\\n\\nThe `revenue_increase` variable will contain the increase in revenue from 2013 to 2017.\\n\\nPlease note that you need to replace `df1` and `df2` with the actual names of your dataframes containing the units and revenue data respectively.\"}"
      ]
     },
     "execution_count": 28,
     "metadata": {},
     "output_type": "execute_result"
    }
   ],
   "source": [
    "agent.invoke(\"Which size of desktop monitors experienced the fastest growth in Units from 2013 to 2017? And what was the increase in revenue from what to what?\")"
   ]
  },
  {
   "cell_type": "markdown",
   "id": "c0dfec94",
   "metadata": {},
   "source": [
    "没有调用 python_repl_ast"
   ]
  },
  {
   "cell_type": "code",
   "execution_count": null,
   "id": "60d08a56",
   "metadata": {},
   "outputs": [],
   "source": []
  }
 ],
 "metadata": {
  "kernelspec": {
   "display_name": "Python 3 (ipykernel)",
   "language": "python",
   "name": "python3"
  },
  "language_info": {
   "codemirror_mode": {
    "name": "ipython",
    "version": 3
   },
   "file_extension": ".py",
   "mimetype": "text/x-python",
   "name": "python",
   "nbconvert_exporter": "python",
   "pygments_lexer": "ipython3",
   "version": "3.9.19"
  }
 },
 "nbformat": 4,
 "nbformat_minor": 5
}
